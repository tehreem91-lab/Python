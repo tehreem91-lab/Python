{
 "cells": [
  {
   "cell_type": "code",
   "execution_count": 50,
   "id": "c91db51e",
   "metadata": {},
   "outputs": [
    {
     "name": "stdout",
     "output_type": "stream",
     "text": [
      "Twinkle, twinkle, little star,\n",
      "\tHow I wonder what you are!\n",
      "\t\tUp above the world so high,\n",
      "\tLike a diamond in the sky. \n",
      "Twinkle, twinkle, little star, \n",
      "\tHow I wonder what you are\n"
     ]
    }
   ],
   "source": [
    "#Question No 1:\n",
    "print(\"Twinkle, twinkle, little star,\\n\\tHow I wonder what you are!\\n\\t\\tUp above the world so high,\");\n",
    "print (\"\\tLike a diamond in the sky. \\nTwinkle, twinkle, little star, \\n\\tHow I wonder what you are\");"
   ]
  },
  {
   "cell_type": "code",
   "execution_count": 51,
   "id": "e0d0eb60",
   "metadata": {},
   "outputs": [
    {
     "name": "stdout",
     "output_type": "stream",
     "text": [
      "Python version\n",
      "3.8.8 (default, Apr 13 2021, 15:08:03) [MSC v.1916 64 bit (AMD64)]\n",
      "Version info.\n",
      "sys.version_info(major=3, minor=8, micro=8, releaselevel='final', serial=0)\n"
     ]
    }
   ],
   "source": [
    "# Question No 2:\n",
    "import sys\n",
    "print(\"Python version\")\n",
    "print (sys.version)\n",
    "print(\"Version info.\")\n",
    "print (sys.version_info)"
   ]
  },
  {
   "cell_type": "code",
   "execution_count": 3,
   "id": "bb672319",
   "metadata": {},
   "outputs": [
    {
     "name": "stdout",
     "output_type": "stream",
     "text": [
      "Today Date And Time:  2021-10-22 20:58:14.155598\n"
     ]
    }
   ],
   "source": [
    "#Question No 3:\n",
    "import datetime\n",
    "datetime_object = datetime.datetime.now()\n",
    "print(\"Today Date And Time: \" ,datetime_object)"
   ]
  },
  {
   "cell_type": "code",
   "execution_count": 4,
   "id": "81faff59",
   "metadata": {},
   "outputs": [
    {
     "name": "stdout",
     "output_type": "stream",
     "text": [
      "Enter the Radius of a Circle: 45\n",
      " Area OF a Circle is:  6358.500000000001\n"
     ]
    }
   ],
   "source": [
    "#Questoin No 4:\n",
    "radius = float(input(\"Enter the Radius of a Circle: \"));\n",
    "area = 3.14 * radius * radius;\n",
    "print ( \" Area OF a Circle is: \",area);"
   ]
  },
  {
   "cell_type": "code",
   "execution_count": 54,
   "id": "62d28853",
   "metadata": {},
   "outputs": [
    {
     "name": "stdout",
     "output_type": "stream",
     "text": [
      "Enter Your Name: Tehreem \n",
      "Enter Your Last Name: Iqbal\n",
      "Iqbal Tehreem \n"
     ]
    }
   ],
   "source": [
    "#Question No 5:\n",
    "Name = input(\"Enter Your Name: \");\n",
    "LName = input(\"Enter Your Last Name: \");\n",
    "print(LName,Name);"
   ]
  },
  {
   "cell_type": "code",
   "execution_count": 53,
   "id": "71ce1b67",
   "metadata": {},
   "outputs": [
    {
     "name": "stdout",
     "output_type": "stream",
     "text": [
      "Enter 1st Number 34\n",
      "Enter 2nd Number 1\n",
      "The Sum Of Two Numbers are 35\n"
     ]
    }
   ],
   "source": [
    "#Question No 6:\n",
    "number1 = int(input(\"Enter 1st Number \"));\n",
    "number2 = int(input(\"Enter 2nd Number \"));\n",
    "add = number1 + number2;\n",
    "\n",
    "print(\"The Sum Of Two Numbers are\", add);"
   ]
  },
  {
   "cell_type": "code",
   "execution_count": 55,
   "id": "47984964",
   "metadata": {},
   "outputs": [
    {
     "name": "stdout",
     "output_type": "stream",
     "text": [
      "Enter Your English Marks: 56\n",
      "Enter Your Urdu Marks: 56\n",
      "Enter Your Math Marks: 76\n",
      "Enter Your Islamiat Marks: 87\n",
      "Enter Your Social Studies Marks: 34\n",
      "\n",
      "Your Total Obtained Marks 309\n",
      "\n",
      "Your Percentage is  61.8\n",
      "\n",
      "you Got B Grade\n"
     ]
    }
   ],
   "source": [
    "#Question No 7:\n",
    "English = int(input(\"Enter Your English Marks: \"));\n",
    "urdu = int(input(\"Enter Your Urdu Marks: \"));\n",
    "Math = int(input(\"Enter Your Math Marks: \"));\n",
    "Is = int(input(\"Enter Your Islamiat Marks: \"));\n",
    "Ps = int(input(\"Enter Your Social Studies Marks: \"));\n",
    "Total_marks = 500;\n",
    "Obtained_marks = English+urdu+Math+Is+Ps;\n",
    "print(\"\\nYour Total Obtained Marks\" ,Obtained_marks);\n",
    "percent = (Obtained_marks/Total_marks)*100;\n",
    "print(\"\\nYour Percentage is \" ,percent);  \n",
    "if percent < 100 and percent > 80:\n",
    "    print(\"\\nYour Grade is A+\");\n",
    "elif percent < 80 and percent > 70:\n",
    "    print(\"\\nyou Got A Grade\");\n",
    "elif percent < 70 and percent > 60:\n",
    "    print(\"\\nyou Got B Grade\");\n",
    "elif percent < 60 and percent > 50:\n",
    "    print(\"\\nyou Got C Grade\");\n",
    "elif percent< 50 and percent > 40:\n",
    "    print(\"\\nyou Got D Grade\");\n",
    "elif percent < 40 and percent > 35:\n",
    "    print(\"\\nyou Got E Grade\");\n",
    "elif percent< 0.0:\n",
    "    print(\"invalid input\");    \n",
    "else: \n",
    "     print(\"fail\");"
   ]
  },
  {
   "cell_type": "code",
   "execution_count": 57,
   "id": "f954c11e",
   "metadata": {},
   "outputs": [
    {
     "name": "stdout",
     "output_type": "stream",
     "text": [
      "Enter A Number: 7\n",
      "You Enter An Odd Number  7\n"
     ]
    }
   ],
   "source": [
    "#Question No 8:\n",
    "Number = int(input(\"Enter A Number: \"));\n",
    "if (Number % 2) == 0:\n",
    "    print(\"You Enter An Even Number \",Number);\n",
    "else:\n",
    "    print(\"You Enter An Odd Number \",Number);"
   ]
  },
  {
   "cell_type": "code",
   "execution_count": 58,
   "id": "22c7fd0c",
   "metadata": {},
   "outputs": [
    {
     "name": "stdout",
     "output_type": "stream",
     "text": [
      "Lenght Of the List Is 6\n"
     ]
    }
   ],
   "source": [
    "#Question No 9:\n",
    "List = [\"Hello\", \"Tehreem\",\"Iqbal\" , 1, 2, 3]\n",
    "print(\"Lenght Of the List Is\",len(List));"
   ]
  },
  {
   "cell_type": "code",
   "execution_count": 59,
   "id": "e190dadd",
   "metadata": {},
   "outputs": [
    {
     "name": "stdout",
     "output_type": "stream",
     "text": [
      "64\n"
     ]
    }
   ],
   "source": [
    "# Question No 10\n",
    "arr = [10,12,22,20];\n",
    "sum = 0\n",
    "for i in range(len(arr)):\n",
    "    sum += arr[i]\n",
    "    \n",
    "print(sum)"
   ]
  },
  {
   "cell_type": "code",
   "execution_count": 21,
   "id": "7a1d234e",
   "metadata": {},
   "outputs": [
    {
     "name": "stdout",
     "output_type": "stream",
     "text": [
      "Largest element is: 86\n"
     ]
    }
   ],
   "source": [
    "#Question No 11:\n",
    "List = [10, 20, 4, 86, 45,];\n",
    "List.sort();\n",
    "print(\"Largest element is:\", List[-1]);"
   ]
  },
  {
   "cell_type": "code",
   "execution_count": 37,
   "id": "e86932f1",
   "metadata": {},
   "outputs": [
    {
     "name": "stdout",
     "output_type": "stream",
     "text": [
      "1\n",
      "1\n",
      "2\n",
      "3\n"
     ]
    }
   ],
   "source": [
    "#Question No 12:\n",
    "a = [1, 1, 2, 3, 5, 8, 13, 21, 34, 55, 89]\n",
    "\n",
    "for i in a:\n",
    "     if i < 5:\n",
    "        print(i)\n",
    "    \n"
   ]
  }
 ],
 "metadata": {
  "kernelspec": {
   "display_name": "Python 3",
   "language": "python",
   "name": "python3"
  },
  "language_info": {
   "codemirror_mode": {
    "name": "ipython",
    "version": 3
   },
   "file_extension": ".py",
   "mimetype": "text/x-python",
   "name": "python",
   "nbconvert_exporter": "python",
   "pygments_lexer": "ipython3",
   "version": "3.8.8"
  }
 },
 "nbformat": 4,
 "nbformat_minor": 5
}
